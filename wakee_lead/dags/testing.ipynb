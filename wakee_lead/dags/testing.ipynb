{
 "cells": [
  {
   "cell_type": "code",
   "execution_count": null,
   "id": "8382561d",
   "metadata": {},
   "outputs": [],
   "source": [
    "from datetime import datetime\n",
    "from airflow import DAG\n",
    "from airflow.operators.bash_operator import BashOperator\n",
    "from airflow.operators.python import PythonOperator\n",
    "import torchvision.transforms.v2 as transforms\n",
    "import pandas as pd\n",
    "import os\n",
    "import pathlib\n",
    "\n",
    "import cnn_lab\n",
    "\n",
    "\n",
    "default_args = {\n",
    "    'owner': 'airflow',\n",
    "    'start_date': datetime(2024, 1, 1),\n",
    "    'retries': 1\n",
    "}\n",
    "\n",
    "\n",
    "img_path = pathlib.Path(\"data/raw_images/\")\n",
    "\n",
    "\n",
    "def process_img():\n",
    "    transform = transforms.Compose([\n",
    "        transforms.Resize(256),\n",
    "        transforms.CenterCrop(224)])\n",
    "    for picture in img_path:\n",
    "        return transform(picture)\n",
    "    \n",
    "\n",
    "def label(proces_img):\n",
    "    lab = pd.DataFrame([\"img_name\", \"emo1\", \"emo2\", \"emo3\", \"emo4\"])\n",
    "    # => ligne de commande pour recupération du nom de proces_img\n",
    "    emotion = cnn_lab.get_emotion(proces_img)\n",
    "    # => ligne de commande pour implanter les labels dans le csv \n",
    "    lab.to_csv('../data/labeled_data/labels.csv')\n",
    "\n",
    "\n",
    "with DAG(dag_id=\"Weekly_transformation\", default_args=default_args, catchup=False) as dag:\n",
    "\n",
    "    start_dag = BashOperator(task_id=\"start_dag\", bash_command=\"echo 'Start!'\")\n",
    "\n",
    "    move_to_folder = BashOperator(task_id=\"move_to_folder\", bash_command='''\n",
    "                                cd ../../opt/airflow/data/raw_images\n",
    "                                ''')\n",
    "    \n",
    "    weekly_transform = PythonOperator(task_id=\"weekly_transform\", python_callable=process_img)\n",
    "                            \n",
    "    end_dag = BashOperator(task_id=\"end_dag\", bash_command=\"echo 'End!'\")\n",
    "\n",
    "    start_dag >>  move_to_folder >> weekly_transform >> end_dag"
   ]
  },
  {
   "cell_type": "code",
   "execution_count": null,
   "id": "152f9f8d",
   "metadata": {},
   "outputs": [],
   "source": [
    "from datetime import datetime\n",
    "#from airflow import DAG\n",
    "#from airflow.operators.bash_operator import BashOperator\n",
    "#from airflow.operators.python import PythonOperator\n",
    "import torchvision.transforms.v2 as transforms\n",
    "import pandas as pd\n",
    "import os\n",
    "import pathlib\n",
    "\n",
    "import cnn_lab"
   ]
  },
  {
   "cell_type": "code",
   "execution_count": null,
   "id": "e2f11d3a",
   "metadata": {},
   "outputs": [],
   "source": [
    "img_source = r\"C:\\Users\\maria\\Desktop\\dsl_ft_33\\00_Projets_certif\\bloc4\\03_Jedha_aia_bloc_4_Final_project\\wakee_lead\\data\\raw_images\"\n",
    "img_dest = r\"C:\\Users\\maria\\Desktop\\dsl_ft_33\\00_Projets_certif\\bloc4\\03_Jedha_aia_bloc_4_Final_project\\wakee_lead\\data\\processed\"\n",
    "\n",
    "def process_img():\n",
    "    transform = transforms.Compose([\n",
    "        transforms.Resize(256),\n",
    "        transforms.CenterCrop(224)])\n",
    "    for picture in img_source:\n",
    "        return (transform(picture)) in img_dest"
   ]
  },
  {
   "cell_type": "code",
   "execution_count": 9,
   "id": "47d85000",
   "metadata": {},
   "outputs": [],
   "source": [
    "import os\n",
    "from PIL import Image\n",
    "\n",
    "transform = transforms.Compose([\n",
    "        transforms.Resize(256),\n",
    "        transforms.CenterCrop(224)])\n",
    "    # for picture in img_path:\n",
    "    #     return transform(picture)\n",
    "\n",
    "def traiter_images(dossier_a, dossier_b, transforme):\n",
    "    \"\"\"\n",
    "    Applique une transformation sur toutes les images d'un dossier et les enregistre dans un autre dossier.\n",
    "\n",
    "    :param dossier_a: Chemin du dossier source contenant les images\n",
    "    :param dossier_b: Chemin du dossier destination où stocker les images transformées\n",
    "    :param transforme: Fonction qui prend en entrée une image PIL et retourne une image transformée\n",
    "    \"\"\"\n",
    "    # Crée le dossier de sortie s'il n'existe pas\n",
    "    os.makedirs(dossier_b, exist_ok=True)\n",
    "\n",
    "    # Extensions d'images communes\n",
    "    extensions_valides = (\".jpg\", \".jpeg\", \".png\", \".bmp\", \".tiff\", \".gif\")\n",
    "\n",
    "    \n",
    "\n",
    "    for nom_fichier in os.listdir(dossier_a):\n",
    "        if nom_fichier.lower().endswith(extensions_valides):\n",
    "            chemin_entree = os.path.join(dossier_a, nom_fichier)\n",
    "            chemin_sortie = os.path.join(dossier_b, nom_fichier)\n",
    "\n",
    "            try:\n",
    "                # Ouvrir l'image\n",
    "                with Image.open(chemin_entree) as img:\n",
    "                    # Appliquer la transformation\n",
    "                    img_trans = transforme(img)\n",
    "\n",
    "                    # Sauvegarder l'image transformée\n",
    "                    img_trans.save(chemin_sortie)\n",
    "                    print(f\"✔ Image transformée : {nom_fichier}\")\n",
    "            except Exception as e:\n",
    "                print(f\"⚠ Erreur avec {nom_fichier}: {e}\")"
   ]
  },
  {
   "cell_type": "code",
   "execution_count": 10,
   "id": "5e07dc6b",
   "metadata": {},
   "outputs": [
    {
     "name": "stdout",
     "output_type": "stream",
     "text": [
      "✔ Image transformée : frame175751278672.jpg\n"
     ]
    }
   ],
   "source": [
    "traiter_images(img_source, img_dest, transform)"
   ]
  }
 ],
 "metadata": {
  "kernelspec": {
   "display_name": "deeplearning",
   "language": "python",
   "name": "python3"
  },
  "language_info": {
   "codemirror_mode": {
    "name": "ipython",
    "version": 3
   },
   "file_extension": ".py",
   "mimetype": "text/x-python",
   "name": "python",
   "nbconvert_exporter": "python",
   "pygments_lexer": "ipython3",
   "version": "3.11.13"
  }
 },
 "nbformat": 4,
 "nbformat_minor": 5
}
